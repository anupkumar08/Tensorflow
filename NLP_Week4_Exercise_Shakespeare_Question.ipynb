{
  "nbformat": 4,
  "nbformat_minor": 0,
  "metadata": {
    "accelerator": "GPU",
    "colab": {
      "name": "NLP_Week4_Exercise_Shakespeare_Question.ipynb",
      "provenance": [],
      "toc_visible": true
    },
    "kernelspec": {
      "display_name": "Python 3",
      "name": "python3"
    }
  },
  "cells": [
    {
      "cell_type": "code",
      "metadata": {
        "id": "zX4Kg8DUTKWO",
        "colab_type": "code",
        "colab": {}
      },
      "source": [
        "#@title Licensed under the Apache License, Version 2.0 (the \"License\");\n",
        "# you may not use this file except in compliance with the License.\n",
        "# You may obtain a copy of the License at\n",
        "#\n",
        "# https://www.apache.org/licenses/LICENSE-2.0\n",
        "#\n",
        "# Unless required by applicable law or agreed to in writing, software\n",
        "# distributed under the License is distributed on an \"AS IS\" BASIS,\n",
        "# WITHOUT WARRANTIES OR CONDITIONS OF ANY KIND, either express or implied.\n",
        "# See the License for the specific language governing permissions and\n",
        "# limitations under the License."
      ],
      "execution_count": null,
      "outputs": []
    },
    {
      "cell_type": "code",
      "metadata": {
        "colab_type": "code",
        "id": "BOwsuGQQY9OL",
        "colab": {}
      },
      "source": [
        "from tensorflow.keras.preprocessing.sequence import pad_sequences\n",
        "from tensorflow.keras.layers import Embedding, LSTM, Dense, Dropout, Bidirectional\n",
        "from tensorflow.keras.preprocessing.text import Tokenizer\n",
        "from tensorflow.keras.models import Sequential\n",
        "from tensorflow.keras.optimizers import Adam\n",
        "### YOUR CODE HERE\n",
        "from tensorflow.keras import regularizers\n",
        "###\n",
        "import tensorflow.keras.utils as ku \n",
        "import numpy as np "
      ],
      "execution_count": 1,
      "outputs": []
    },
    {
      "cell_type": "code",
      "metadata": {
        "colab_type": "code",
        "id": "PRnDnCW-Z7qv",
        "colab": {
          "base_uri": "https://localhost:8080/",
          "height": 204
        },
        "outputId": "02211217-1ad9-4d61-abda-65059f9a4afb"
      },
      "source": [
        "tokenizer = Tokenizer()\n",
        "!wget --no-check-certificate \\\n",
        "    https://storage.googleapis.com/laurencemoroney-blog.appspot.com/sonnets.txt \\\n",
        "    -O /tmp/sonnets.txt\n",
        "data = open('/tmp/sonnets.txt').read()\n",
        "\n",
        "corpus = data.lower().split(\"\\n\")\n",
        "\n",
        "\n",
        "tokenizer.fit_on_texts(corpus)\n",
        "total_words = len(tokenizer.word_index) + 1\n",
        "\n",
        "# create input sequences using list of tokens\n",
        "input_sequences = []\n",
        "for line in corpus:\n",
        "\ttoken_list = tokenizer.texts_to_sequences([line])[0]\n",
        "\tfor i in range(1, len(token_list)):\n",
        "\t\tn_gram_sequence = token_list[:i+1]\n",
        "\t\tinput_sequences.append(n_gram_sequence)\n",
        "\n",
        "\n",
        "# pad sequences \n",
        "max_sequence_len = max([len(x) for x in input_sequences])\n",
        "input_sequences = np.array(pad_sequences(input_sequences, maxlen=max_sequence_len, padding='pre'))\n",
        "\n",
        "# create predictors and label\n",
        "predictors, label = input_sequences[:,:-1],input_sequences[:,-1]\n",
        "\n",
        "label = ku.to_categorical(label, num_classes=total_words)"
      ],
      "execution_count": 2,
      "outputs": [
        {
          "output_type": "stream",
          "text": [
            "--2020-07-31 12:11:37--  https://storage.googleapis.com/laurencemoroney-blog.appspot.com/sonnets.txt\n",
            "Resolving storage.googleapis.com (storage.googleapis.com)... 173.194.76.128, 74.125.206.128, 64.233.166.128, ...\n",
            "Connecting to storage.googleapis.com (storage.googleapis.com)|173.194.76.128|:443... connected.\n",
            "HTTP request sent, awaiting response... 200 OK\n",
            "Length: 93578 (91K) [text/plain]\n",
            "Saving to: ‘/tmp/sonnets.txt’\n",
            "\n",
            "\r/tmp/sonnets.txt      0%[                    ]       0  --.-KB/s               \r/tmp/sonnets.txt    100%[===================>]  91.38K  --.-KB/s    in 0.001s  \n",
            "\n",
            "2020-07-31 12:11:37 (65.2 MB/s) - ‘/tmp/sonnets.txt’ saved [93578/93578]\n",
            "\n"
          ],
          "name": "stdout"
        }
      ]
    },
    {
      "cell_type": "code",
      "metadata": {
        "colab_type": "code",
        "id": "w9vH8Y59ajYL",
        "colab": {
          "base_uri": "https://localhost:8080/",
          "height": 374
        },
        "outputId": "18f7ba03-c348-4aa9-c32c-ef5e63624046"
      },
      "source": [
        "model = Sequential()\n",
        "model.add(Embedding(total_words, 100, input_length=max_sequence_len-1))\n",
        "model.add(Bidirectional(LSTM(150, return_sequences = True)))\n",
        "model.add(Dropout(0.2))\n",
        "model.add(LSTM(100))\n",
        "model.add(Dense(total_words/2, activation='relu', kernel_regularizer=regularizers.l2(0.01)))\n",
        "model.add(Dense(total_words, activation='softmax'))\n",
        "# Pick an optimizer\n",
        "model.compile(loss='categorical_crossentropy', optimizer='adam', metrics=['accuracy'])\n",
        "print(model.summary())\n"
      ],
      "execution_count": 3,
      "outputs": [
        {
          "output_type": "stream",
          "text": [
            "Model: \"sequential\"\n",
            "_________________________________________________________________\n",
            "Layer (type)                 Output Shape              Param #   \n",
            "=================================================================\n",
            "embedding (Embedding)        (None, 10, 100)           321100    \n",
            "_________________________________________________________________\n",
            "bidirectional (Bidirectional (None, 10, 300)           301200    \n",
            "_________________________________________________________________\n",
            "dropout (Dropout)            (None, 10, 300)           0         \n",
            "_________________________________________________________________\n",
            "lstm_1 (LSTM)                (None, 100)               160400    \n",
            "_________________________________________________________________\n",
            "dense (Dense)                (None, 1605)              162105    \n",
            "_________________________________________________________________\n",
            "dense_1 (Dense)              (None, 3211)              5156866   \n",
            "=================================================================\n",
            "Total params: 6,101,671\n",
            "Trainable params: 6,101,671\n",
            "Non-trainable params: 0\n",
            "_________________________________________________________________\n",
            "None\n"
          ],
          "name": "stdout"
        }
      ]
    },
    {
      "cell_type": "code",
      "metadata": {
        "colab_type": "code",
        "id": "AIg2f1HBxqof",
        "colab": {
          "base_uri": "https://localhost:8080/",
          "height": 1000
        },
        "outputId": "d7b43259-fe8c-4c5e-8251-59ec1d16266c"
      },
      "source": [
        " history = model.fit(predictors, label, epochs=100, verbose=1)"
      ],
      "execution_count": 4,
      "outputs": [
        {
          "output_type": "stream",
          "text": [
            "Epoch 1/100\n",
            "484/484 [==============================] - 13s 26ms/step - loss: 6.9136 - accuracy: 0.0221\n",
            "Epoch 2/100\n",
            "484/484 [==============================] - 13s 26ms/step - loss: 6.5010 - accuracy: 0.0225\n",
            "Epoch 3/100\n",
            "484/484 [==============================] - 13s 26ms/step - loss: 6.3902 - accuracy: 0.0261\n",
            "Epoch 4/100\n",
            "484/484 [==============================] - 13s 26ms/step - loss: 6.2663 - accuracy: 0.0303\n",
            "Epoch 5/100\n",
            "484/484 [==============================] - 13s 26ms/step - loss: 6.1741 - accuracy: 0.0359\n",
            "Epoch 6/100\n",
            "484/484 [==============================] - 13s 26ms/step - loss: 6.0966 - accuracy: 0.0389\n",
            "Epoch 7/100\n",
            "484/484 [==============================] - 13s 26ms/step - loss: 6.0231 - accuracy: 0.0402\n",
            "Epoch 8/100\n",
            "484/484 [==============================] - 13s 26ms/step - loss: 5.9434 - accuracy: 0.0448\n",
            "Epoch 9/100\n",
            "484/484 [==============================] - 13s 27ms/step - loss: 5.8506 - accuracy: 0.0512\n",
            "Epoch 10/100\n",
            "484/484 [==============================] - 13s 26ms/step - loss: 5.7455 - accuracy: 0.0579\n",
            "Epoch 11/100\n",
            "484/484 [==============================] - 13s 26ms/step - loss: 5.6403 - accuracy: 0.0640\n",
            "Epoch 12/100\n",
            "484/484 [==============================] - 13s 26ms/step - loss: 5.5456 - accuracy: 0.0686\n",
            "Epoch 13/100\n",
            "484/484 [==============================] - 13s 26ms/step - loss: 5.4490 - accuracy: 0.0741\n",
            "Epoch 14/100\n",
            "484/484 [==============================] - 13s 26ms/step - loss: 5.3533 - accuracy: 0.0796\n",
            "Epoch 15/100\n",
            "484/484 [==============================] - 13s 27ms/step - loss: 5.2545 - accuracy: 0.0834\n",
            "Epoch 16/100\n",
            "484/484 [==============================] - 13s 27ms/step - loss: 5.1632 - accuracy: 0.0935\n",
            "Epoch 17/100\n",
            "484/484 [==============================] - 13s 27ms/step - loss: 5.0609 - accuracy: 0.1001\n",
            "Epoch 18/100\n",
            "484/484 [==============================] - 13s 27ms/step - loss: 4.9639 - accuracy: 0.1077\n",
            "Epoch 19/100\n",
            "484/484 [==============================] - 13s 27ms/step - loss: 4.8700 - accuracy: 0.1129\n",
            "Epoch 20/100\n",
            "484/484 [==============================] - 13s 26ms/step - loss: 4.7693 - accuracy: 0.1280\n",
            "Epoch 21/100\n",
            "484/484 [==============================] - 13s 27ms/step - loss: 4.6694 - accuracy: 0.1325\n",
            "Epoch 22/100\n",
            "484/484 [==============================] - 13s 26ms/step - loss: 4.5722 - accuracy: 0.1455\n",
            "Epoch 23/100\n",
            "484/484 [==============================] - 13s 26ms/step - loss: 4.4733 - accuracy: 0.1566\n",
            "Epoch 24/100\n",
            "484/484 [==============================] - 13s 26ms/step - loss: 4.3801 - accuracy: 0.1686\n",
            "Epoch 25/100\n",
            "484/484 [==============================] - 13s 26ms/step - loss: 4.2791 - accuracy: 0.1786\n",
            "Epoch 26/100\n",
            "484/484 [==============================] - 13s 26ms/step - loss: 4.1843 - accuracy: 0.1875\n",
            "Epoch 27/100\n",
            "484/484 [==============================] - 13s 26ms/step - loss: 4.0836 - accuracy: 0.2050\n",
            "Epoch 28/100\n",
            "484/484 [==============================] - 13s 27ms/step - loss: 3.9807 - accuracy: 0.2177\n",
            "Epoch 29/100\n",
            "484/484 [==============================] - 13s 26ms/step - loss: 3.8872 - accuracy: 0.2320\n",
            "Epoch 30/100\n",
            "484/484 [==============================] - 13s 26ms/step - loss: 3.7928 - accuracy: 0.2432\n",
            "Epoch 31/100\n",
            "484/484 [==============================] - 13s 27ms/step - loss: 3.7005 - accuracy: 0.2635\n",
            "Epoch 32/100\n",
            "484/484 [==============================] - 13s 27ms/step - loss: 3.6139 - accuracy: 0.2784\n",
            "Epoch 33/100\n",
            "484/484 [==============================] - 14s 28ms/step - loss: 3.5135 - accuracy: 0.3007\n",
            "Epoch 34/100\n",
            "484/484 [==============================] - 13s 27ms/step - loss: 3.4360 - accuracy: 0.3185\n",
            "Epoch 35/100\n",
            "484/484 [==============================] - 13s 27ms/step - loss: 3.3519 - accuracy: 0.3392\n",
            "Epoch 36/100\n",
            "484/484 [==============================] - 13s 27ms/step - loss: 3.2588 - accuracy: 0.3579\n",
            "Epoch 37/100\n",
            "484/484 [==============================] - 13s 26ms/step - loss: 3.1854 - accuracy: 0.3760\n",
            "Epoch 38/100\n",
            "484/484 [==============================] - 13s 26ms/step - loss: 3.1085 - accuracy: 0.3930\n",
            "Epoch 39/100\n",
            "484/484 [==============================] - 13s 26ms/step - loss: 3.0272 - accuracy: 0.4087\n",
            "Epoch 40/100\n",
            "484/484 [==============================] - 13s 27ms/step - loss: 2.9582 - accuracy: 0.4266\n",
            "Epoch 41/100\n",
            "484/484 [==============================] - 13s 27ms/step - loss: 2.8902 - accuracy: 0.4440\n",
            "Epoch 42/100\n",
            "484/484 [==============================] - 13s 27ms/step - loss: 2.8172 - accuracy: 0.4580\n",
            "Epoch 43/100\n",
            "484/484 [==============================] - 13s 27ms/step - loss: 2.7607 - accuracy: 0.4704\n",
            "Epoch 44/100\n",
            "484/484 [==============================] - 13s 26ms/step - loss: 2.6987 - accuracy: 0.4840\n",
            "Epoch 45/100\n",
            "484/484 [==============================] - 13s 26ms/step - loss: 2.6345 - accuracy: 0.5016\n",
            "Epoch 46/100\n",
            "484/484 [==============================] - 13s 27ms/step - loss: 2.5683 - accuracy: 0.5191\n",
            "Epoch 47/100\n",
            "484/484 [==============================] - 13s 26ms/step - loss: 2.5287 - accuracy: 0.5261\n",
            "Epoch 48/100\n",
            "484/484 [==============================] - 13s 26ms/step - loss: 2.4819 - accuracy: 0.5334\n",
            "Epoch 49/100\n",
            "484/484 [==============================] - 13s 27ms/step - loss: 2.4187 - accuracy: 0.5464\n",
            "Epoch 50/100\n",
            "484/484 [==============================] - 13s 27ms/step - loss: 2.3725 - accuracy: 0.5592\n",
            "Epoch 51/100\n",
            "484/484 [==============================] - 13s 28ms/step - loss: 2.3093 - accuracy: 0.5693\n",
            "Epoch 52/100\n",
            "484/484 [==============================] - 13s 28ms/step - loss: 2.2704 - accuracy: 0.5770\n",
            "Epoch 53/100\n",
            "484/484 [==============================] - 13s 27ms/step - loss: 2.2279 - accuracy: 0.5938\n",
            "Epoch 54/100\n",
            "484/484 [==============================] - 13s 27ms/step - loss: 2.2018 - accuracy: 0.5948\n",
            "Epoch 55/100\n",
            "484/484 [==============================] - 13s 27ms/step - loss: 2.1479 - accuracy: 0.6073\n",
            "Epoch 56/100\n",
            "484/484 [==============================] - 13s 27ms/step - loss: 2.1035 - accuracy: 0.6191\n",
            "Epoch 57/100\n",
            "484/484 [==============================] - 13s 28ms/step - loss: 2.0806 - accuracy: 0.6161\n",
            "Epoch 58/100\n",
            "484/484 [==============================] - 13s 26ms/step - loss: 2.0385 - accuracy: 0.6314\n",
            "Epoch 59/100\n",
            "484/484 [==============================] - 13s 26ms/step - loss: 1.9923 - accuracy: 0.6398\n",
            "Epoch 60/100\n",
            "484/484 [==============================] - 13s 27ms/step - loss: 1.9454 - accuracy: 0.6548\n",
            "Epoch 61/100\n",
            "484/484 [==============================] - 13s 27ms/step - loss: 1.9331 - accuracy: 0.6522\n",
            "Epoch 62/100\n",
            "484/484 [==============================] - 13s 27ms/step - loss: 1.8966 - accuracy: 0.6577\n",
            "Epoch 63/100\n",
            "484/484 [==============================] - 13s 27ms/step - loss: 1.8705 - accuracy: 0.6644\n",
            "Epoch 64/100\n",
            "484/484 [==============================] - 13s 27ms/step - loss: 1.8316 - accuracy: 0.6749\n",
            "Epoch 65/100\n",
            "484/484 [==============================] - 13s 27ms/step - loss: 1.8039 - accuracy: 0.6791\n",
            "Epoch 66/100\n",
            "484/484 [==============================] - 13s 27ms/step - loss: 1.7907 - accuracy: 0.6798\n",
            "Epoch 67/100\n",
            "484/484 [==============================] - 13s 28ms/step - loss: 1.7471 - accuracy: 0.6901\n",
            "Epoch 68/100\n",
            "484/484 [==============================] - 13s 28ms/step - loss: 1.7177 - accuracy: 0.6961\n",
            "Epoch 69/100\n",
            "484/484 [==============================] - 13s 28ms/step - loss: 1.6851 - accuracy: 0.7062\n",
            "Epoch 70/100\n",
            "484/484 [==============================] - 13s 28ms/step - loss: 1.6692 - accuracy: 0.7119\n",
            "Epoch 71/100\n",
            "484/484 [==============================] - 13s 28ms/step - loss: 1.6395 - accuracy: 0.7169\n",
            "Epoch 72/100\n",
            "484/484 [==============================] - 13s 27ms/step - loss: 1.6159 - accuracy: 0.7170\n",
            "Epoch 73/100\n",
            "484/484 [==============================] - 13s 26ms/step - loss: 1.6132 - accuracy: 0.7163\n",
            "Epoch 74/100\n",
            "484/484 [==============================] - 13s 26ms/step - loss: 1.5807 - accuracy: 0.7265\n",
            "Epoch 75/100\n",
            "484/484 [==============================] - 13s 27ms/step - loss: 1.5517 - accuracy: 0.7321\n",
            "Epoch 76/100\n",
            "484/484 [==============================] - 13s 26ms/step - loss: 1.5247 - accuracy: 0.7366\n",
            "Epoch 77/100\n",
            "484/484 [==============================] - 13s 26ms/step - loss: 1.5094 - accuracy: 0.7406\n",
            "Epoch 78/100\n",
            "484/484 [==============================] - 13s 26ms/step - loss: 1.4844 - accuracy: 0.7440\n",
            "Epoch 79/100\n",
            "484/484 [==============================] - 13s 26ms/step - loss: 1.4757 - accuracy: 0.7467\n",
            "Epoch 80/100\n",
            "484/484 [==============================] - 13s 26ms/step - loss: 1.4562 - accuracy: 0.7476\n",
            "Epoch 81/100\n",
            "484/484 [==============================] - 13s 27ms/step - loss: 1.4485 - accuracy: 0.7499\n",
            "Epoch 82/100\n",
            "484/484 [==============================] - 13s 26ms/step - loss: 1.4266 - accuracy: 0.7527\n",
            "Epoch 83/100\n",
            "484/484 [==============================] - 13s 26ms/step - loss: 1.4049 - accuracy: 0.7575\n",
            "Epoch 84/100\n",
            "484/484 [==============================] - 13s 26ms/step - loss: 1.3889 - accuracy: 0.7636\n",
            "Epoch 85/100\n",
            "484/484 [==============================] - 13s 26ms/step - loss: 1.3591 - accuracy: 0.7702\n",
            "Epoch 86/100\n",
            "484/484 [==============================] - 13s 26ms/step - loss: 1.3518 - accuracy: 0.7667\n",
            "Epoch 87/100\n",
            "484/484 [==============================] - 13s 26ms/step - loss: 1.3494 - accuracy: 0.7706\n",
            "Epoch 88/100\n",
            "484/484 [==============================] - 13s 26ms/step - loss: 1.3332 - accuracy: 0.7683\n",
            "Epoch 89/100\n",
            "484/484 [==============================] - 13s 26ms/step - loss: 1.3056 - accuracy: 0.7756\n",
            "Epoch 90/100\n",
            "484/484 [==============================] - 13s 26ms/step - loss: 1.2945 - accuracy: 0.7783\n",
            "Epoch 91/100\n",
            "484/484 [==============================] - 13s 26ms/step - loss: 1.2790 - accuracy: 0.7799\n",
            "Epoch 92/100\n",
            "484/484 [==============================] - 13s 26ms/step - loss: 1.2639 - accuracy: 0.7848\n",
            "Epoch 93/100\n",
            "484/484 [==============================] - 13s 26ms/step - loss: 1.2625 - accuracy: 0.7778\n",
            "Epoch 94/100\n",
            "484/484 [==============================] - 13s 26ms/step - loss: 1.2547 - accuracy: 0.7824\n",
            "Epoch 95/100\n",
            "484/484 [==============================] - 13s 26ms/step - loss: 1.2492 - accuracy: 0.7816\n",
            "Epoch 96/100\n",
            "484/484 [==============================] - 13s 26ms/step - loss: 1.2206 - accuracy: 0.7896\n",
            "Epoch 97/100\n",
            "484/484 [==============================] - 13s 26ms/step - loss: 1.2195 - accuracy: 0.7897\n",
            "Epoch 98/100\n",
            "484/484 [==============================] - 13s 26ms/step - loss: 1.2095 - accuracy: 0.7930\n",
            "Epoch 99/100\n",
            "484/484 [==============================] - 13s 26ms/step - loss: 1.2039 - accuracy: 0.7895\n",
            "Epoch 100/100\n",
            "484/484 [==============================] - 13s 26ms/step - loss: 1.1613 - accuracy: 0.8000\n"
          ],
          "name": "stdout"
        }
      ]
    },
    {
      "cell_type": "code",
      "metadata": {
        "colab_type": "code",
        "id": "1fXTEO3GJ282",
        "colab": {
          "base_uri": "https://localhost:8080/",
          "height": 545
        },
        "outputId": "93572a2b-419e-4cd4-a61a-0335f0a1432d"
      },
      "source": [
        "import matplotlib.pyplot as plt\n",
        "acc = history.history['accuracy']\n",
        "loss = history.history['loss']\n",
        "\n",
        "epochs = range(len(acc))\n",
        "\n",
        "plt.plot(epochs, acc, 'b', label='Training accuracy')\n",
        "plt.title('Training accuracy')\n",
        "\n",
        "plt.figure()\n",
        "\n",
        "plt.plot(epochs, loss, 'b', label='Training Loss')\n",
        "plt.title('Training loss')\n",
        "plt.legend()\n",
        "\n",
        "plt.show()"
      ],
      "execution_count": 5,
      "outputs": [
        {
          "output_type": "display_data",
          "data": {
            "image/png": "[encoded data removed]",
            "text/plain": [
              "<Figure size 432x288 with 1 Axes>"
            ]
          },
          "metadata": {
            "tags": [],
            "needs_background": "light"
          }
        },
        {
          "output_type": "display_data",
          "data": {
            "image/png": "[encoded data removed]",
            "text/plain": [
              "<Figure size 432x288 with 1 Axes>"
            ]
          },
          "metadata": {
            "tags": [],
            "needs_background": "light"
          }
        }
      ]
    },
    {
      "cell_type": "code",
      "metadata": {
        "colab_type": "code",
        "id": "6Vc6PHgxa6Hm",
        "colab": {
          "base_uri": "https://localhost:8080/",
          "height": 105
        },
        "outputId": "d561d89a-c03c-4789-8986-1283079f0164"
      },
      "source": [
        "seed_text = \"Help me Obi Wan Kenobi, you're my only hope\"\n",
        "next_words = 100\n",
        "  \n",
        "for _ in range(next_words):\n",
        "\ttoken_list = tokenizer.texts_to_sequences([seed_text])[0]\n",
        "\ttoken_list = pad_sequences([token_list], maxlen=max_sequence_len-1, padding='pre')\n",
        "\tpredicted = model.predict_classes(token_list, verbose=0)\n",
        "\toutput_word = \"\"\n",
        "\tfor word, index in tokenizer.word_index.items():\n",
        "\t\tif index == predicted:\n",
        "\t\t\toutput_word = word\n",
        "\t\t\tbreak\n",
        "\tseed_text += \" \" + output_word\n",
        "print(seed_text)"
      ],
      "execution_count": 6,
      "outputs": [
        {
          "output_type": "stream",
          "text": [
            "WARNING:tensorflow:From <ipython-input-6-622d307fa19a>:7: Sequential.predict_classes (from tensorflow.python.keras.engine.sequential) is deprecated and will be removed after 2021-01-01.\n",
            "Instructions for updating:\n",
            "Please use instead:* `np.argmax(model.predict(x), axis=-1)`,   if your model does multi-class classification   (e.g. if it uses a `softmax` last-layer activation).* `(model.predict(x) > 0.5).astype(\"int32\")`,   if your model does binary classification   (e.g. if it uses a `sigmoid` last-layer activation).\n",
            "Help me Obi Wan Kenobi, you're my only hope some fair pleasure stay ' bearing hence hate lies quite nearly quite knights forgot alone lived alone lived alone now see your beauty and be care in shown ride quite treason burn no age exceeds dyed rehearse taken remain quite defeat free tend remain dyed remain twain grow forth forth men wastes woe face rare rare lies dyed forth done alone doth done alone loved not write in me was me so write for thee dear dear friend doth come hue eyes ransom so worth a loss of steel spirit alone than women's foes odours made so nearly esteem'd esteem'd\n"
          ],
          "name": "stdout"
        }
      ]
    }
  ]
}