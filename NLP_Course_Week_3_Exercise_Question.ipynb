{
  "nbformat": 4,
  "nbformat_minor": 0,
  "metadata": {
    "accelerator": "GPU",
    "colab": {
      "name": "NLP Course - Week 3 Exercise Question.ipynb",
      "provenance": [],
      "toc_visible": true
    },
    "kernelspec": {
      "display_name": "Python 3",
      "name": "python3"
    }
  },
  "cells": [
    {
      "cell_type": "code",
      "metadata": {
        "id": "zX4Kg8DUTKWO",
        "colab_type": "code",
        "colab": {}
      },
      "source": [
        "#@title Licensed under the Apache License, Version 2.0 (the \"License\");\n",
        "# you may not use this file except in compliance with the License.\n",
        "# You may obtain a copy of the License at\n",
        "#\n",
        "# https://www.apache.org/licenses/LICENSE-2.0\n",
        "#\n",
        "# Unless required by applicable law or agreed to in writing, software\n",
        "# distributed under the License is distributed on an \"AS IS\" BASIS,\n",
        "# WITHOUT WARRANTIES OR CONDITIONS OF ANY KIND, either express or implied.\n",
        "# See the License for the specific language governing permissions and\n",
        "# limitations under the License."
      ],
      "execution_count": null,
      "outputs": []
    },
    {
      "cell_type": "code",
      "metadata": {
        "colab_type": "code",
        "id": "hmA6EzkQJ5jt",
        "colab": {}
      },
      "source": [
        "import json\n",
        "import tensorflow as tf\n",
        "import csv\n",
        "import random\n",
        "import numpy as np\n",
        "\n",
        "from tensorflow.keras.preprocessing.text import Tokenizer\n",
        "from tensorflow.keras.preprocessing.sequence import pad_sequences\n",
        "from tensorflow.keras.utils import to_categorical\n",
        "from tensorflow.keras import regularizers\n",
        "\n",
        "\n",
        "embedding_dim = 100\n",
        "max_length = 16\n",
        "trunc_type='post'\n",
        "padding_type='post'\n",
        "oov_tok = \"<OOV>\"\n",
        "#Your dataset size here. Experiment using smaller values (i.e. 16000), but don't forget to train on at least 160000 to see the best effects\n",
        "training_size=160000 \n",
        "test_portion=.1\n",
        "\n",
        "corpus = []\n"
      ],
      "execution_count": 1,
      "outputs": []
    },
    {
      "cell_type": "code",
      "metadata": {
        "colab_type": "code",
        "id": "bM0l_dORKqE0",
        "colab": {
          "base_uri": "https://localhost:8080/",
          "height": 204
        },
        "outputId": "3c6ad1eb-da2c-410c-e0be-6efaae5de04c"
      },
      "source": [
        "# Note that I cleaned the Stanford dataset to remove LATIN1 encoding to make it easier for Python CSV reader\n",
        "# You can do that yourself with:\n",
        "# iconv -f LATIN1 -t UTF8 training.1600000.processed.noemoticon.csv -o training_cleaned.csv\n",
        "# I then hosted it on my site to make it easier to use in this notebook\n",
        "\n",
        "!wget --no-check-certificate \\\n",
        "    https://storage.googleapis.com/laurencemoroney-blog.appspot.com/training_cleaned.csv \\\n",
        "    -O /tmp/training_cleaned.csv\n",
        "\n",
        "num_sentences = 0\n",
        "\n",
        "with open(\"/tmp/training_cleaned.csv\") as csvfile:\n",
        "    reader = csv.reader(csvfile, delimiter=',')\n",
        "    for row in reader:\n",
        "        list_item=[]\n",
        "        list_item.append(row[5])\n",
        "        this_label=row[0]\n",
        "        if this_label=='0':\n",
        "            list_item.append(0)\n",
        "        else:\n",
        "            list_item.append(1)\n",
        "        num_sentences = num_sentences + 1\n",
        "        corpus.append(list_item)\n"
      ],
      "execution_count": 2,
      "outputs": [
        {
          "output_type": "stream",
          "text": [
            "--2020-07-31 10:35:11--  https://storage.googleapis.com/laurencemoroney-blog.appspot.com/training_cleaned.csv\n",
            "Resolving storage.googleapis.com (storage.googleapis.com)... 74.125.126.128, 74.125.69.128, 172.217.212.128, ...\n",
            "Connecting to storage.googleapis.com (storage.googleapis.com)|74.125.126.128|:443... connected.\n",
            "HTTP request sent, awaiting response... 200 OK\n",
            "Length: 238942690 (228M) [application/octet-stream]\n",
            "Saving to: ‘/tmp/training_cleaned.csv’\n",
            "\n",
            "/tmp/training_clean 100%[===================>] 227.87M   152MB/s    in 1.5s    \n",
            "\n",
            "2020-07-31 10:35:12 (152 MB/s) - ‘/tmp/training_cleaned.csv’ saved [238942690/238942690]\n",
            "\n"
          ],
          "name": "stdout"
        }
      ]
    },
    {
      "cell_type": "code",
      "metadata": {
        "colab_type": "code",
        "id": "3kxblBUjEUX-",
        "colab": {
          "base_uri": "https://localhost:8080/",
          "height": 68
        },
        "outputId": "b019352b-4237-4669-9d46-0ced6ad7e9ca"
      },
      "source": [
        "print(num_sentences)\n",
        "print(len(corpus))\n",
        "print(corpus[1])\n",
        "\n",
        "# Expected Output:\n",
        "# 1600000\n",
        "# 1600000\n",
        "# [\"is upset that he can't update his Facebook by texting it... and might cry as a result  School today also. Blah!\", 0]"
      ],
      "execution_count": 3,
      "outputs": [
        {
          "output_type": "stream",
          "text": [
            "1600000\n",
            "1600000\n",
            "[\"is upset that he can't update his Facebook by texting it... and might cry as a result  School today also. Blah!\", 0]\n"
          ],
          "name": "stdout"
        }
      ]
    },
    {
      "cell_type": "code",
      "metadata": {
        "colab_type": "code",
        "id": "ohOGz24lsNAD",
        "colab": {}
      },
      "source": [
        "sentences=[]\n",
        "labels=[]\n",
        "random.shuffle(corpus)\n",
        "for x in range(training_size):\n",
        "    sentences.append(corpus[x][0])\n",
        "    labels.append(corpus[x][1])\n",
        "\n",
        "\n",
        "tokenizer = Tokenizer()\n",
        "tokenizer.fit_on_texts(sentences)\n",
        "\n",
        "word_index = tokenizer.word_index\n",
        "vocab_size=len(word_index)\n",
        "\n",
        "sequences = tokenizer.texts_to_sequences(sentences)\n",
        "padded = pad_sequences(sequences, maxlen=max_length, padding=padding_type, truncating=trunc_type)\n",
        "\n",
        "split = int(test_portion * training_size)\n",
        "\n",
        "test_sequences = padded[0:split]\n",
        "training_sequences = padded[split:training_size]\n",
        "test_labels = labels[0:split]\n",
        "training_labels = labels[split:training_size]"
      ],
      "execution_count": 4,
      "outputs": []
    },
    {
      "cell_type": "code",
      "metadata": {
        "colab_type": "code",
        "id": "gIrtRem1En3N",
        "colab": {
          "base_uri": "https://localhost:8080/",
          "height": 51
        },
        "outputId": "45daf7b2-e993-4584-a46e-fef90ef4da5d"
      },
      "source": [
        "print(vocab_size)\n",
        "print(word_index['i'])\n",
        "# Expected Output\n",
        "# 138858\n",
        "# 1"
      ],
      "execution_count": 5,
      "outputs": [
        {
          "output_type": "stream",
          "text": [
            "138302\n",
            "1\n"
          ],
          "name": "stdout"
        }
      ]
    },
    {
      "cell_type": "code",
      "metadata": {
        "colab_type": "code",
        "id": "C1zdgJkusRh0",
        "colab": {
          "base_uri": "https://localhost:8080/",
          "height": 204
        },
        "outputId": "7b76e05b-9dd8-4393-8477-b6470e06c0ce"
      },
      "source": [
        "# Note this is the 100 dimension version of GloVe from Stanford\n",
        "# I unzipped and hosted it on my site to make this notebook easier\n",
        "!wget --no-check-certificate \\\n",
        "    https://storage.googleapis.com/laurencemoroney-blog.appspot.com/glove.6B.100d.txt \\\n",
        "    -O /tmp/glove.6B.100d.txt\n",
        "embeddings_index = {};\n",
        "with open('/tmp/glove.6B.100d.txt') as f:\n",
        "    for line in f:\n",
        "        values = line.split();\n",
        "        word = values[0];\n",
        "        coefs = np.asarray(values[1:], dtype='float32');\n",
        "        embeddings_index[word] = coefs;\n",
        "\n",
        "embeddings_matrix = np.zeros((vocab_size+1, embedding_dim));\n",
        "for word, i in word_index.items():\n",
        "    embedding_vector = embeddings_index.get(word);\n",
        "    if embedding_vector is not None:\n",
        "        embeddings_matrix[i] = embedding_vector;"
      ],
      "execution_count": 6,
      "outputs": [
        {
          "output_type": "stream",
          "text": [
            "--2020-07-31 10:37:39--  https://storage.googleapis.com/laurencemoroney-blog.appspot.com/glove.6B.100d.txt\n",
            "Resolving storage.googleapis.com (storage.googleapis.com)... 74.125.124.128, 172.217.212.128, 172.217.214.128, ...\n",
            "Connecting to storage.googleapis.com (storage.googleapis.com)|74.125.124.128|:443... connected.\n",
            "HTTP request sent, awaiting response... 200 OK\n",
            "Length: 347116733 (331M) [text/plain]\n",
            "Saving to: ‘/tmp/glove.6B.100d.txt’\n",
            "\n",
            "/tmp/glove.6B.100d. 100%[===================>] 331.04M   180MB/s    in 1.8s    \n",
            "\n",
            "2020-07-31 10:37:41 (180 MB/s) - ‘/tmp/glove.6B.100d.txt’ saved [347116733/347116733]\n",
            "\n"
          ],
          "name": "stdout"
        }
      ]
    },
    {
      "cell_type": "code",
      "metadata": {
        "colab_type": "code",
        "id": "71NLk_lpFLNt",
        "colab": {
          "base_uri": "https://localhost:8080/",
          "height": 34
        },
        "outputId": "b36677b8-e63a-46b2-d825-22717ca5a8e2"
      },
      "source": [
        "print(len(embeddings_matrix))\n",
        "# Expected Output\n",
        "# 138859"
      ],
      "execution_count": 7,
      "outputs": [
        {
          "output_type": "stream",
          "text": [
            "138303\n"
          ],
          "name": "stdout"
        }
      ]
    },
    {
      "cell_type": "code",
      "metadata": {
        "colab_type": "code",
        "id": "iKKvbuEBOGFz",
        "colab": {
          "base_uri": "https://localhost:8080/",
          "height": 1000
        },
        "outputId": "38dada10-dbe4-4b26-af86-db1fe5e21c79"
      },
      "source": [
        "model = tf.keras.Sequential([\n",
        "    tf.keras.layers.Embedding(vocab_size+1, embedding_dim, input_length=max_length, weights=[embeddings_matrix], trainable=False),\n",
        "    tf.keras.layers.Dropout(0.2),\n",
        "    tf.keras.layers.Conv1D(64, 5, activation='relu'),\n",
        "    tf.keras.layers.MaxPooling1D(pool_size=4),\n",
        "    tf.keras.layers.LSTM(64),\n",
        "    tf.keras.layers.Dense(1, activation='sigmoid')\n",
        "])\n",
        "model.compile(loss='binary_crossentropy',optimizer='adam',metrics=['accuracy'])\n",
        "model.summary()\n",
        "\n",
        "training_padded = np.array(training_sequences)\n",
        "training_labels = np.array(training_labels)\n",
        "testing_padded = np.array(test_sequences)\n",
        "testing_labels = np.array(test_labels)\n",
        "\n",
        "num_epochs = 50\n",
        "history = model.fit(training_padded, training_labels, epochs=num_epochs, validation_data=(testing_padded, testing_labels), verbose=2)\n",
        "\n",
        "print(\"Training Complete\")\n"
      ],
      "execution_count": 9,
      "outputs": [
        {
          "output_type": "stream",
          "text": [
            "Model: \"sequential_1\"\n",
            "_________________________________________________________________\n",
            "Layer (type)                 Output Shape              Param #   \n",
            "=================================================================\n",
            "embedding_1 (Embedding)      (None, 16, 100)           13830300  \n",
            "_________________________________________________________________\n",
            "dropout_1 (Dropout)          (None, 16, 100)           0         \n",
            "_________________________________________________________________\n",
            "conv1d_1 (Conv1D)            (None, 12, 64)            32064     \n",
            "_________________________________________________________________\n",
            "max_pooling1d_1 (MaxPooling1 (None, 3, 64)             0         \n",
            "_________________________________________________________________\n",
            "lstm_1 (LSTM)                (None, 64)                33024     \n",
            "_________________________________________________________________\n",
            "dense_1 (Dense)              (None, 1)                 65        \n",
            "=================================================================\n",
            "Total params: 13,895,453\n",
            "Trainable params: 65,153\n",
            "Non-trainable params: 13,830,300\n",
            "_________________________________________________________________\n",
            "Epoch 1/50\n",
            "4500/4500 - 22s - loss: 0.5685 - accuracy: 0.6967 - val_loss: 0.5278 - val_accuracy: 0.7303\n",
            "Epoch 2/50\n",
            "4500/4500 - 22s - loss: 0.5286 - accuracy: 0.7309 - val_loss: 0.5126 - val_accuracy: 0.7439\n",
            "Epoch 3/50\n",
            "4500/4500 - 21s - loss: 0.5109 - accuracy: 0.7438 - val_loss: 0.5119 - val_accuracy: 0.7462\n",
            "Epoch 4/50\n",
            "4500/4500 - 22s - loss: 0.5012 - accuracy: 0.7506 - val_loss: 0.5067 - val_accuracy: 0.7482\n",
            "Epoch 5/50\n",
            "4500/4500 - 22s - loss: 0.4924 - accuracy: 0.7555 - val_loss: 0.5058 - val_accuracy: 0.7524\n",
            "Epoch 6/50\n",
            "4500/4500 - 21s - loss: 0.4854 - accuracy: 0.7617 - val_loss: 0.5089 - val_accuracy: 0.7486\n",
            "Epoch 7/50\n",
            "4500/4500 - 22s - loss: 0.4805 - accuracy: 0.7640 - val_loss: 0.5093 - val_accuracy: 0.7491\n",
            "Epoch 8/50\n",
            "4500/4500 - 22s - loss: 0.4757 - accuracy: 0.7673 - val_loss: 0.5106 - val_accuracy: 0.7448\n",
            "Epoch 9/50\n",
            "4500/4500 - 22s - loss: 0.4703 - accuracy: 0.7704 - val_loss: 0.5050 - val_accuracy: 0.7504\n",
            "Epoch 10/50\n",
            "4500/4500 - 22s - loss: 0.4666 - accuracy: 0.7733 - val_loss: 0.5067 - val_accuracy: 0.7477\n",
            "Epoch 11/50\n",
            "4500/4500 - 23s - loss: 0.4639 - accuracy: 0.7749 - val_loss: 0.5097 - val_accuracy: 0.7506\n",
            "Epoch 12/50\n",
            "4500/4500 - 22s - loss: 0.4611 - accuracy: 0.7763 - val_loss: 0.5081 - val_accuracy: 0.7483\n",
            "Epoch 13/50\n",
            "4500/4500 - 22s - loss: 0.4577 - accuracy: 0.7780 - val_loss: 0.5079 - val_accuracy: 0.7505\n",
            "Epoch 14/50\n",
            "4500/4500 - 22s - loss: 0.4541 - accuracy: 0.7803 - val_loss: 0.5083 - val_accuracy: 0.7491\n",
            "Epoch 15/50\n",
            "4500/4500 - 22s - loss: 0.4533 - accuracy: 0.7816 - val_loss: 0.5135 - val_accuracy: 0.7452\n",
            "Epoch 16/50\n",
            "4500/4500 - 22s - loss: 0.4520 - accuracy: 0.7808 - val_loss: 0.5102 - val_accuracy: 0.7497\n",
            "Epoch 17/50\n",
            "4500/4500 - 21s - loss: 0.4497 - accuracy: 0.7828 - val_loss: 0.5094 - val_accuracy: 0.7458\n",
            "Epoch 18/50\n",
            "4500/4500 - 21s - loss: 0.4483 - accuracy: 0.7844 - val_loss: 0.5194 - val_accuracy: 0.7479\n",
            "Epoch 19/50\n",
            "4500/4500 - 22s - loss: 0.4468 - accuracy: 0.7846 - val_loss: 0.5134 - val_accuracy: 0.7499\n",
            "Epoch 20/50\n",
            "4500/4500 - 21s - loss: 0.4451 - accuracy: 0.7858 - val_loss: 0.5248 - val_accuracy: 0.7404\n",
            "Epoch 21/50\n",
            "4500/4500 - 22s - loss: 0.4431 - accuracy: 0.7874 - val_loss: 0.5142 - val_accuracy: 0.7456\n",
            "Epoch 22/50\n",
            "4500/4500 - 22s - loss: 0.4425 - accuracy: 0.7877 - val_loss: 0.5206 - val_accuracy: 0.7473\n",
            "Epoch 23/50\n",
            "4500/4500 - 22s - loss: 0.4421 - accuracy: 0.7871 - val_loss: 0.5168 - val_accuracy: 0.7466\n",
            "Epoch 24/50\n",
            "4500/4500 - 22s - loss: 0.4399 - accuracy: 0.7893 - val_loss: 0.5253 - val_accuracy: 0.7447\n",
            "Epoch 25/50\n",
            "4500/4500 - 22s - loss: 0.4402 - accuracy: 0.7884 - val_loss: 0.5216 - val_accuracy: 0.7419\n",
            "Epoch 26/50\n",
            "4500/4500 - 22s - loss: 0.4384 - accuracy: 0.7884 - val_loss: 0.5192 - val_accuracy: 0.7499\n",
            "Epoch 27/50\n",
            "4500/4500 - 21s - loss: 0.4390 - accuracy: 0.7885 - val_loss: 0.5202 - val_accuracy: 0.7444\n",
            "Epoch 28/50\n",
            "4500/4500 - 22s - loss: 0.4376 - accuracy: 0.7908 - val_loss: 0.5251 - val_accuracy: 0.7437\n",
            "Epoch 29/50\n",
            "4500/4500 - 21s - loss: 0.4353 - accuracy: 0.7909 - val_loss: 0.5254 - val_accuracy: 0.7465\n",
            "Epoch 30/50\n",
            "4500/4500 - 22s - loss: 0.4364 - accuracy: 0.7909 - val_loss: 0.5242 - val_accuracy: 0.7467\n",
            "Epoch 31/50\n",
            "4500/4500 - 21s - loss: 0.4361 - accuracy: 0.7915 - val_loss: 0.5202 - val_accuracy: 0.7429\n",
            "Epoch 32/50\n",
            "4500/4500 - 21s - loss: 0.4345 - accuracy: 0.7920 - val_loss: 0.5215 - val_accuracy: 0.7438\n",
            "Epoch 33/50\n",
            "4500/4500 - 22s - loss: 0.4341 - accuracy: 0.7932 - val_loss: 0.5190 - val_accuracy: 0.7474\n",
            "Epoch 34/50\n",
            "4500/4500 - 21s - loss: 0.4346 - accuracy: 0.7923 - val_loss: 0.5225 - val_accuracy: 0.7457\n",
            "Epoch 35/50\n",
            "4500/4500 - 22s - loss: 0.4343 - accuracy: 0.7923 - val_loss: 0.5195 - val_accuracy: 0.7484\n",
            "Epoch 36/50\n",
            "4500/4500 - 22s - loss: 0.4345 - accuracy: 0.7929 - val_loss: 0.5183 - val_accuracy: 0.7467\n",
            "Epoch 37/50\n",
            "4500/4500 - 22s - loss: 0.4321 - accuracy: 0.7938 - val_loss: 0.5215 - val_accuracy: 0.7446\n",
            "Epoch 38/50\n",
            "4500/4500 - 22s - loss: 0.4320 - accuracy: 0.7935 - val_loss: 0.5259 - val_accuracy: 0.7460\n",
            "Epoch 39/50\n",
            "4500/4500 - 22s - loss: 0.4321 - accuracy: 0.7938 - val_loss: 0.5214 - val_accuracy: 0.7464\n",
            "Epoch 40/50\n",
            "4500/4500 - 23s - loss: 0.4322 - accuracy: 0.7939 - val_loss: 0.5264 - val_accuracy: 0.7424\n",
            "Epoch 41/50\n",
            "4500/4500 - 22s - loss: 0.4307 - accuracy: 0.7946 - val_loss: 0.5320 - val_accuracy: 0.7430\n",
            "Epoch 42/50\n",
            "4500/4500 - 22s - loss: 0.4326 - accuracy: 0.7934 - val_loss: 0.5242 - val_accuracy: 0.7442\n",
            "Epoch 43/50\n",
            "4500/4500 - 22s - loss: 0.4335 - accuracy: 0.7930 - val_loss: 0.5265 - val_accuracy: 0.7429\n",
            "Epoch 44/50\n",
            "4500/4500 - 22s - loss: 0.4304 - accuracy: 0.7940 - val_loss: 0.5257 - val_accuracy: 0.7436\n",
            "Epoch 45/50\n",
            "4500/4500 - 22s - loss: 0.4308 - accuracy: 0.7952 - val_loss: 0.5253 - val_accuracy: 0.7471\n",
            "Epoch 46/50\n",
            "4500/4500 - 22s - loss: 0.4298 - accuracy: 0.7951 - val_loss: 0.5310 - val_accuracy: 0.7444\n",
            "Epoch 47/50\n",
            "4500/4500 - 22s - loss: 0.4290 - accuracy: 0.7962 - val_loss: 0.5217 - val_accuracy: 0.7464\n",
            "Epoch 48/50\n",
            "4500/4500 - 22s - loss: 0.4296 - accuracy: 0.7947 - val_loss: 0.5273 - val_accuracy: 0.7426\n",
            "Epoch 49/50\n",
            "4500/4500 - 21s - loss: 0.4301 - accuracy: 0.7943 - val_loss: 0.5260 - val_accuracy: 0.7452\n",
            "Epoch 50/50\n",
            "4500/4500 - 21s - loss: 0.4280 - accuracy: 0.7965 - val_loss: 0.5285 - val_accuracy: 0.7477\n",
            "Training Complete\n"
          ],
          "name": "stdout"
        }
      ]
    },
    {
      "cell_type": "code",
      "metadata": {
        "colab_type": "code",
        "id": "qxju4ItJKO8F",
        "colab": {
          "base_uri": "https://localhost:8080/",
          "height": 607
        },
        "outputId": "cdab2354-868f-446b-a373-d51cb042e707"
      },
      "source": [
        "import matplotlib.image  as mpimg\n",
        "import matplotlib.pyplot as plt\n",
        "\n",
        "#-----------------------------------------------------------\n",
        "# Retrieve a list of list results on training and test data\n",
        "# sets for each training epoch\n",
        "#-----------------------------------------------------------\n",
        "acc=history.history['accuracy']\n",
        "val_acc=history.history['val_accuracy']\n",
        "loss=history.history['loss']\n",
        "val_loss=history.history['val_loss']\n",
        "\n",
        "epochs=range(len(acc)) # Get number of epochs\n",
        "\n",
        "#------------------------------------------------\n",
        "# Plot training and validation accuracy per epoch\n",
        "#------------------------------------------------\n",
        "plt.plot(epochs, acc, 'r')\n",
        "plt.plot(epochs, val_acc, 'b')\n",
        "plt.title('Training and validation accuracy')\n",
        "plt.xlabel(\"Epochs\")\n",
        "plt.ylabel(\"Accuracy\")\n",
        "plt.legend([\"Accuracy\", \"Validation Accuracy\"])\n",
        "\n",
        "plt.figure()\n",
        "\n",
        "#------------------------------------------------\n",
        "# Plot training and validation loss per epoch\n",
        "#------------------------------------------------\n",
        "plt.plot(epochs, loss, 'r')\n",
        "plt.plot(epochs, val_loss, 'b')\n",
        "plt.title('Training and validation loss')\n",
        "plt.xlabel(\"Epochs\")\n",
        "plt.ylabel(\"Loss\")\n",
        "plt.legend([\"Loss\", \"Validation Loss\"])\n",
        "\n",
        "plt.figure()\n",
        "\n",
        "\n",
        "# Expected Output\n",
        "# A chart where the validation loss does not increase sharply!"
      ],
      "execution_count": 11,
      "outputs": [
        {
          "output_type": "execute_result",
          "data": {
            "text/plain": [
              "<Figure size 432x288 with 0 Axes>"
            ]
          },
          "metadata": {
            "tags": []
          },
          "execution_count": 11
        },
        {
          "output_type": "display_data",
          "data": {
            "image/png": "[encoded data removed]",
            "text/plain": [
              "<Figure size 432x288 with 1 Axes>"
            ]
          },
          "metadata": {
            "tags": [],
            "needs_background": "light"
          }
        },
        {
          "output_type": "display_data",
          "data": {
            "image/png": "[encoded data removed]",
            "text/plain": [
              "<Figure size 432x288 with 1 Axes>"
            ]
          },
          "metadata": {
            "tags": [],
            "needs_background": "light"
          }
        },
        {
          "output_type": "display_data",
          "data": {
            "text/plain": [
              "<Figure size 432x288 with 0 Axes>"
            ]
          },
          "metadata": {
            "tags": []
          }
        }
      ]
    }
  ]
}